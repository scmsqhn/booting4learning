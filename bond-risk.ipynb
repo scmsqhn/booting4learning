{
 "cells": [
  {
   "cell_type": "code",
   "execution_count": 1,
   "metadata": {
    "collapsed": true
   },
   "outputs": [],
   "source": [
    "import numpy as np\n",
    "import pandas as pd\n",
    "import matplotlib as mpl\n",
    "import matplotlib.pyplot as plt\n",
    "import seaborn as sns\n",
    "import sklearn\n",
    "from sklearn import preprocessing as pp\n",
    "from matplotlib.font_manager import FontProperties\n",
    "\n",
    "%matplotlib inline\n",
    "myfont=FontProperties(fname='/usr/share/fonts/truetype/yahei.ttf',size=14)\n",
    "mpl.rcParams['axes.unicode_minus']=False\n",
    "sns.set(font=myfont.get_name())"
   ]
  },
  {
   "cell_type": "code",
   "execution_count": null,
   "metadata": {
    "collapsed": true
   },
   "outputs": [],
   "source": [
    "1.预测评级变化\n",
    "2.预测违约风险\n",
    "问题：\n"
   ]
  },
  {
   "cell_type": "code",
   "execution_count": 4,
   "metadata": {
    "collapsed": true
   },
   "outputs": [],
   "source": [
    "# 数据读取\n",
    "dateparse0 = lambda dates: pd.datetime.strptime((str(dates)+'0101')[0:8], '%Y%m%d') if not pd.isnull(dates) else None\n",
    "dateparse1 = lambda dates: pd.datetime.strptime(str(dates)[0:10], '%Y-%m-%d') if not pd.isnull(dates) else None\n",
    "\n",
    "# 公司基本信息数据\n",
    "company_df = pd.read_csv('./bond_data/company_info.csv',\n",
    "                         parse_dates=['成立日期'],\n",
    "                         infer_datetime_format = True,\n",
    "                         date_parser=dateparse0)\n",
    "# 财务数据\n",
    "bond_df = pd.read_csv('./bond_data/a.csv',\n",
    "                      parse_dates=['报告期'],\n",
    "                      infer_datetime_format = True,\n",
    "                      date_parser=dateparse0)\n",
    "# 评级数据\n",
    "level_df = pd.read_csv('./bond_data/level.csv',\n",
    "                       parse_dates=['评级日期','公告日期'],\n",
    "                       infer_datetime_format=True,\n",
    "                       date_parser=dateparse0)\n",
    "# 债券违约发生数据\n",
    "bond_fault_df = pd.read_csv('./bond_data/bond_fault.csv',\n",
    "                         parse_dates=['发生日期'],\n",
    "                         infer_datetime_format = True,\n",
    "                         date_parser=dateparse0)\n",
    "bond_fault_df.rename(columns={'发行人':'公司名称', '发生日期':'违约日期'}, inplace = True)\n",
    "\n",
    "\n",
    "# 处理舆情信息\n",
    "# 有错误时间格式记录，需要手工处理\n",
    "sentiment_df = pd.read_csv('./bond_data/public_sentiment.csv', parse_dates=['pub_date'], date_parser=dateparse1)\n",
    "# delete none label record\n",
    "sentiment_df = sentiment_df[sentiment_df['lable_type']!='[]']\n",
    "# 修改错误拼写列标签, 并拆分标签到多行\n",
    "sentiment_df = sentiment_df.drop(['lable_type','enterprise_id'], axis=1).join(\n",
    "    sentiment_df['lable_type'].str.split(',', expand=True).stack().reset_index(level=1, drop=True).rename('label_type'))\n",
    "sentiment_df['label_type'] = sentiment_df['label_type'].str.replace(pat='[\\[\\] ]', repl='')\n",
    "sentiment_df = sentiment_df.drop('label_type', axis=1).join(pd.get_dummies(sentiment_df.loc[~sentiment_df['label_type'].isnull(),'label_type']))\n",
    "sentiment_df.rename(columns={'enterprise_name':'公司名称'}, inplace = True)\n",
    "\n",
    "# 标记财务报表类型(年报，半年报，季报)\n",
    "bond_df['报告类型']=bond_df['报告期'].apply(lambda x: '年报' if x.month==12 else ('半年报' if x.month==6 else '季报'))\n",
    "\n",
    "# 关联公司基本信息及评级信息\n",
    "company = pd.merge(company_df, level_df, how='inner', left_on='公司名称', right_on='公司中文名称')\n",
    "\n",
    "# 删除无用列\n",
    "company = company.drop(['公司中文简介', '信用评级说明', '法人代表', '总经理', '董事会秘书', '主页', '电子邮箱',\n",
    "                        '经营范围', '对象ID', '公司ID', '公司中文名称', '主要产品及业务', '办公地址',\n",
    "                        '评级展望', '债券主体公司id', '城市'], axis=1)\n",
    "\n",
    "# 设置列类型\n",
    "company[['公司类别','评级类型','评级机构代码','信用评级','前次信用评级']] = company[['公司类别','评级类型','评级机构代码','信用评级','前次信用评级']].astype(str)\n",
    "company['员工总数人'] = company[company['员工总数人'].notnull()]['员工总数人'].astype(int)\n",
    "# 处理评级信息\n",
    "# 穆迪评级数量很少，所以先匹配norm_level\n",
    "mudy_level = {\"Aaa\":100,\"Aa1\":95,\"Aa2\":90,\"Aa3\":85,\"A1\":80,\"A2\":75,\"A3\":70,\"Baa1\":65,\"Baa2\":60,\\\n",
    "             \"Baa3\":55, \"Ba1\":50,\"Ba2\":45,\"Ba3\":40,\"B1\":35,\"B2\":30,\"B3\":25,\"Caa1\":20,\"Caa2\":15,\\\n",
    "             \"Caa3\":10,\"Ca\":5,\"C\":0}\n",
    "norm_level = {\"AAA\":100,\"AA+\":95,\"AA\":90,\"AA-\":85,\"A+\":80,\"A\":75,\"A-\":70,\"BBB+\":65,\"BBB\":60,\\\n",
    "             \"BBB-\":55, \"BB+\":50,\"BB\":45,\"BB-\":40,\"B+\":35,\"B\":30,\"B-\":25,\"CCC\":20,\"CC\":15,\\\n",
    "             \"C\":10, \"RD\":5,\"D\":0}\n",
    "company['信用评级'] = company['信用评级'].apply(lambda x: norm_level[x] if x in norm_level else mudy_level[x] if x in mudy_level else None)\n",
    "company['前次信用评级'] = company['前次信用评级'].apply(lambda x: norm_level[x] if x in norm_level else mudy_level[x] if x in mudy_level else None)\n"
   ]
  },
  {
   "cell_type": "code",
   "execution_count": 5,
   "metadata": {
    "collapsed": true
   },
   "outputs": [],
   "source": [
    "# 处理财务报表数据\n",
    "def process_data(bond):\n",
    "    # 删除评级日期<报告期的记录+一个月滞后期(暂时没有实现)\n",
    "    # 按公司名称，报告期分组排序\n",
    "    bond['sort_id'] =  bond.loc[bond['报告期']<bond['评级日期'],['评级日期']].groupby([bond['公司名称'], bond['报告期']]).rank(ascending=False)\n",
    "\n",
    "    # 合并评级日期前两期财务指标\n",
    "    return pd.merge(bond.loc[bond['sort_id'] == 1,bond.columns[0:-1]],\n",
    "                    bond.loc[bond['sort_id'] == 2,bond.columns[0:-2]],\n",
    "                    how='left', on=['公司名称','报告期'])\n"
   ]
  },
  {
   "cell_type": "code",
   "execution_count": 9,
   "metadata": {
    "collapsed": true
   },
   "outputs": [],
   "source": [
    "# 根据财务报表类型分别关联公司信息及财务报告\n",
    "bond_year = pd.merge(bond_df[bond_df['报告类型']=='年报'], company[['公司名称','评级日期']].drop_duplicates(),\n",
    "                     how='inner', on='公司名称').drop(['公司代码','报告类型'], axis=1)\n",
    "bond_halfyear = pd.merge(bond_df[bond_df['报告类型']=='半年报'], company[['公司名称','评级日期']],\n",
    "                         how='inner', on='公司名称').drop(['公司代码','报告类型'], axis=1)\n",
    "bond_quarter = pd.merge(bond_df[bond_df['报告类型']=='季报'], company[['公司名称','评级日期']].drop_duplicates(),\n",
    "                        how='inner', on='公司名称').drop(['公司代码','报告类型'], axis=1)\n",
    "\n",
    "bond_year = process_data(bond_year)\n",
    "bond_halfyear = process_data(bond_halfyear)\n",
    "bond_quarter = process_data(bond_quarter)"
   ]
  },
  {
   "cell_type": "code",
   "execution_count": 10,
   "metadata": {},
   "outputs": [],
   "source": [
    "sentiment_df = pd.merge(company[['评级日期','公司名称']], sentiment_df, how='left', on='公司名称')\n",
    "# 计算舆情发生日期与评级日期的差值，可以根据这个特征提取一定时间内的舆情信息\n",
    "sentiment_df['days'] = (sentiment_df['评级日期'] - sentiment_df['pub_date']).dt.days\n",
    "\n",
    "col = sentiment_df.columns[3:-1].values.tolist()\n",
    "col += ['公司名称', '评级日期']\n",
    "# 统计指定时间段舆情信息\n",
    "b_days = 0\n",
    "e_days = 31\n",
    "sentiment_df_30 = sentiment_df.loc[(sentiment_df['days']<e_days) & (sentiment_df['days']>b_days), col]\n",
    "sentiment_df_30 = sentiment_df_30.groupby(['公司名称','评级日期']).sum().reset_index()"
   ]
  },
  {
   "cell_type": "code",
   "execution_count": 65,
   "metadata": {},
   "outputs": [
    {
     "data": {
      "text/plain": [
       "Index(['公司代码', '公司名称', '报告期', '基本每股收益', '每股未分配利润', '每股净资产', '净资产收益率', '总资产报酬率',\n",
       "       '总资产净利率（杜邦分析）', '经营活动净收益/利润总额', '营业外收支净额/利润总额', '销售商品提供劳务收到的现金/营业收入',\n",
       "       '经营活动产生的现金流量净额/营业收入', '资产负债率', '权益乘数(用于杜邦分析) ', '流动资产/总资产',\n",
       "       '归属于母公司的股东权益/全部投入资本', '流动比率', '速动比率', '产权比率', '经营活动产生的现金流量净额/负债合计',\n",
       "       '存货周转率', '应收账款周转率', '总资产周转率', '同比增长率-基本每股收益(%)', '同比增长率-营业利润(%)',\n",
       "       '同比增长率-经营活动产生的现金流量净额(%)', '报告类型'],\n",
       "      dtype='object')"
      ]
     },
     "execution_count": 65,
     "metadata": {},
     "output_type": "execute_result"
    }
   ],
   "source": [
    "bond_df.columns"
   ]
  },
  {
   "cell_type": "code",
   "execution_count": 12,
   "metadata": {},
   "outputs": [
    {
     "name": "stdout",
     "output_type": "stream",
     "text": [
      "3895\n",
      "[['中煤集团山西华昱能源有限公司' '中煤集团山西华昱能源有限公司']\n",
      " ['五洋建设集团股份有限公司' '五洋建设集团股份有限公司']\n",
      " ['亿利资源集团有限公司' '亿利资源集团有限公司']\n",
      " ['信阳市弘昌管道燃气工程有限责任公司' '信阳市弘昌管道燃气工程有限责任公司']\n",
      " ['内蒙古博源控股集团有限公司' '内蒙古博源控股集团有限公司']\n",
      " ['华盛江泉集团有限公司' '华盛江泉集团有限公司']\n",
      " ['四川省煤炭产业集团有限责任公司' '四川省煤炭产业集团有限责任公司']\n",
      " ['大连机床集团有限责任公司' '大连机床集团有限责任公司']\n",
      " ['中国城市建设控股集团有限公司' nan]\n",
      " ['甘肃宏良皮业股份有限公司' nan]\n",
      " ['上海市建设机电安装有限公司' nan]\n",
      " ['丹东港集团有限公司' nan]\n",
      " ['湖州厉华妤婕联合纺织有限公司' nan]\n",
      " ['东北特殊钢集团有限责任公司' nan]\n",
      " ['山东山水水泥集团有限公司' nan]\n",
      " ['内蒙古奈伦集团股份有限公司' nan]\n",
      " ['春和集团有限公司' nan]\n",
      " ['珠海中富实业股份有限公司' nan]\n",
      " ['广州华工百川科技有限公司' nan]\n",
      " ['惠州侨兴电信工业有限公司' nan]\n",
      " ['惠州侨兴电讯工业有限公司' nan]\n",
      " ['河北省物流产业集团有限公司' nan]\n",
      " ['山东迪浩耐磨管道股份有限公司' nan]\n",
      " ['莱芜信通印刷设备有限公司' nan]\n",
      " ['武汉国裕物流产业集团有限公司' nan]\n",
      " ['百花医药集团股份有限公司' nan]\n",
      " ['亚邦投资控股集团有限公司' nan]\n",
      " ['金乡县华光食品进出口有限公司' nan]\n",
      " ['华珠(泉州)鞋业有限公司' nan]\n",
      " ['上海云峰(集团)有限公司' nan]\n",
      " ['河南佳源乳业股份有限公司' nan]\n",
      " ['东兴金满堂商贸有限公司' nan]\n",
      " ['甘肃华协农业生物科技股份有限公司' nan]\n",
      " ['鄂尔多斯市益通路桥有限公司' nan]\n",
      " ['保定天威英利新能源有限公司' nan]\n",
      " ['天津市泰亨气体有限公司' nan]\n",
      " ['广西有色金属集团有限公司' nan]\n",
      " ['保定天威集团有限公司' nan]\n",
      " ['南京雨润食品有限公司' nan]\n",
      " ['江苏中联物流股份有限公司' nan]\n",
      " ['中成新星油田工程技术服务股份有限公司' nan]\n",
      " ['淄博宏达矿业有限公司' nan]\n",
      " ['中恒通(福建)机械制造有限公司' nan]\n",
      " ['陕西国德电气制造有限公司' nan]\n",
      " ['山东滨州新天阳化工有限责任公司' nan]\n",
      " ['四川圣达集团有限公司' nan]\n",
      " ['重庆市福星门业(集团)有限公司' nan]\n",
      " ['浙江平湖华龙实业股份有限公司' nan]\n",
      " ['内蒙古奈伦农业科技股份有限公司' nan]\n",
      " ['中国中钢股份有限公司' nan]\n",
      " ['中国第二重型机械集团公司' nan]\n",
      " ['吉林粮食集团收储经销有限公司' nan]\n",
      " ['江苏大宏纺织集团股份有限公司' nan]\n",
      " ['波鸿集团有限公司' nan]\n",
      " ['中科云网科技集团股份有限公司' nan]\n",
      " ['东飞马佐里纺机有限公司' nan]\n",
      " ['宿迁市致富皮业有限公司' nan]\n",
      " ['安徽蓝博旺机械集团' nan]\n",
      " ['天津市天联滨海复合材料有限公司' nan]\n",
      " ['湖州金泰科技股份有限公司' nan]\n",
      " ['中伟(徐州)新型材料科技有限公司' nan]\n",
      " ['协鑫集成科技股份有限公司' nan]]\n",
      "9210\n",
      "[['四川省煤炭产业集团有限责任公司' '0PR4D96A3B']\n",
      " ['华盛江泉集团有限公司' '0SJ588B19D']\n",
      " ['中科云网科技集团股份有限公司' '0SR4CFFBC2']\n",
      " ['四川圣达集团有限公司' '0gC5A212E4']\n",
      " ['珠海中富实业股份有限公司' '1000659']\n",
      " ['淄博宏达矿业有限公司' '1607CD']\n",
      " ['保定天威英利新能源有限公司' '16QAD21F36']\n",
      " ['大连机床集团有限责任公司' '2017001']\n",
      " ['东北特殊钢集团有限责任公司' '2017303']\n",
      " ['五洋建设集团股份有限公司' '2AF3E7FA74']\n",
      " ['协鑫集成科技股份有限公司' '2AF4393CBF']\n",
      " ['内蒙古博源控股集团有限公司' '2NC56A6286']\n",
      " ['亿利资源集团有限公司' '2NO47A6F9E']\n",
      " ['中国城市建设控股集团有限公司' '2NQ6A3DA92']\n",
      " ['内蒙古奈伦集团股份有限公司' '3IJ9289564']\n",
      " ['广西有色金属集团有限公司' '3IS58731BE']\n",
      " ['中国第二重型机械集团公司' '3cDAFF62EE']\n",
      " ['信阳市弘昌管道燃气工程有限责任公司' '3v29285122']\n",
      " ['上海市建设机电安装有限公司' '3v89B63F62']\n",
      " ['山东山水水泥集团有限公司' '459AD2589D']\n",
      " ['广州华工百川科技有限公司' '45E611D5FD']\n",
      " ['陕西国德电气制造有限公司' '45QA642D17']\n",
      " ['丹东港集团有限公司' '48KA591548']\n",
      " ['天津市天联滨海复合材料有限公司' '4CWjypefR1']\n",
      " ['百花医药集团股份有限公司' '5151000']\n",
      " ['鄂尔多斯市益通路桥有限公司' '5egGmbAQXD']\n",
      " ['惠州侨兴电讯工业有限公司' '600668']\n",
      " ['保定天威集团有限公司' '601237']\n",
      " ['天津市泰亨气体有限公司' '8FNFFBEBgw']\n",
      " ['华珠(泉州)鞋业有限公司' '8UkHDNdlkY']\n",
      " ['武汉国裕物流产业集团有限公司' '8doJMt3Lgy']\n",
      " ['东兴金满堂商贸有限公司' 'CGD3ofrwee']\n",
      " ['东飞马佐里纺机有限公司' 'CKrzIz7Ko9']\n",
      " ['中国中钢股份有限公司' 'F59BC']\n",
      " ['重庆市福星门业(集团)有限公司' 'F6rYUPTqWx']\n",
      " ['上海云峰(集团)有限公司' 'IHMCxXdr48']\n",
      " ['安徽蓝博旺机械集团' 'IXnDFnncGT']\n",
      " ['惠州侨兴电信工业有限公司' 'KjhTRZkADi']\n",
      " ['浙江平湖华龙实业股份有限公司' 'N2p33w6XHd']\n",
      " ['甘肃华协农业生物科技股份有限公司' 'R5V6iOHgUy']\n",
      " ['山东迪浩耐磨管道股份有限公司' 'Uz0iiYxPfH']\n",
      " ['河北省物流产业集团有限公司' 'WaOdV9OUqb']\n",
      " ['甘肃宏良皮业股份有限公司' 'XJaqYw0Jcp']\n",
      " ['春和集团有限公司' 'ZSWuP6B3BB']\n",
      " ['内蒙古奈伦农业科技股份有限公司' 'ZmhnzJqwTl']\n",
      " ['中煤集团山西华昱能源有限公司' 'acQJfk27UR']\n",
      " ['吉林粮食集团收储经销有限公司' 'bD0J1pFjV5']\n",
      " ['湖州金泰科技股份有限公司' 'bw1n0UjBXe']\n",
      " ['河南佳源乳业股份有限公司' 'fHBKRIdW9I']\n",
      " ['宿迁市致富皮业有限公司' 'gf3uz5pdh7']\n",
      " ['莱芜信通印刷设备有限公司' 'i5qbK5gvdY']\n",
      " ['山东滨州新天阳化工有限责任公司' 'i81KIuXpgA']\n",
      " ['江苏大宏纺织集团股份有限公司' 'iqNubjYAqV']\n",
      " ['亚邦投资控股集团有限公司' 'jyXf7bqzzf']\n",
      " ['中成新星油田工程技术服务股份有限公司' 'ng8VAvallz']\n",
      " ['金乡县华光食品进出口有限公司' 'pSxvb5Cr8Z']\n",
      " ['南京雨润食品有限公司' 'u0qxYnp8Kk']\n",
      " ['湖州厉华妤婕联合纺织有限公司' 'uOMMiDfxNj']\n",
      " ['中恒通(福建)机械制造有限公司' 'wXO4LSyBez']\n",
      " ['中伟(徐州)新型材料科技有限公司' 'x8heOzwuHS']\n",
      " ['波鸿集团有限公司' 'xOqt2nFJPL']\n",
      " ['江苏中联物流股份有限公司' 'zWWH6rRg7y']]\n",
      "5032\n",
      "[['四川省煤炭产业集团有限责任公司' '0PR4D96A3B']\n",
      " ['华盛江泉集团有限公司' '0SJ588B19D']\n",
      " ['中科云网科技集团股份有限公司' '0SR4CFFBC2']\n",
      " ['珠海中富实业股份有限公司' '1000659']\n",
      " ['保定天威英利新能源有限公司' '16QAD21F36']\n",
      " ['大连机床集团有限责任公司' '2017001']\n",
      " ['东北特殊钢集团有限责任公司' '2017303']\n",
      " ['协鑫集成科技股份有限公司' '2AF4393CBF']\n",
      " ['内蒙古博源控股集团有限公司' '2NC56A6286']\n",
      " ['亿利资源集团有限公司' '2NO47A6F9E']\n",
      " ['丹东港集团有限公司' '48KA591548']\n",
      " ['保定天威集团有限公司' '601237']\n",
      " ['武汉国裕物流产业集团有限公司' '8doJMt3Lgy']\n",
      " ['上海云峰(集团)有限公司' 'IHMCxXdr48']\n",
      " ['甘肃华协农业生物科技股份有限公司' 'R5V6iOHgUy']\n",
      " ['山东迪浩耐磨管道股份有限公司' 'Uz0iiYxPfH']\n",
      " ['甘肃宏良皮业股份有限公司' 'XJaqYw0Jcp']\n",
      " ['中煤集团山西华昱能源有限公司' 'acQJfk27UR']\n",
      " ['吉林粮食集团收储经销有限公司' 'bD0J1pFjV5']\n",
      " ['中国城市建设控股集团有限公司' nan]\n",
      " ['上海市建设机电安装有限公司' nan]\n",
      " ['五洋建设集团股份有限公司' nan]\n",
      " ['湖州厉华妤婕联合纺织有限公司' nan]\n",
      " ['信阳市弘昌管道燃气工程有限责任公司' nan]\n",
      " ['山东山水水泥集团有限公司' nan]\n",
      " ['内蒙古奈伦集团股份有限公司' nan]\n",
      " ['春和集团有限公司' nan]\n",
      " ['广州华工百川科技有限公司' nan]\n",
      " ['惠州侨兴电信工业有限公司' nan]\n",
      " ['惠州侨兴电讯工业有限公司' nan]\n",
      " ['河北省物流产业集团有限公司' nan]\n",
      " ['莱芜信通印刷设备有限公司' nan]\n",
      " ['百花医药集团股份有限公司' nan]\n",
      " ['亚邦投资控股集团有限公司' nan]\n",
      " ['金乡县华光食品进出口有限公司' nan]\n",
      " ['华珠(泉州)鞋业有限公司' nan]\n",
      " ['河南佳源乳业股份有限公司' nan]\n",
      " ['东兴金满堂商贸有限公司' nan]\n",
      " ['鄂尔多斯市益通路桥有限公司' nan]\n",
      " ['天津市泰亨气体有限公司' nan]\n",
      " ['广西有色金属集团有限公司' nan]\n",
      " ['南京雨润食品有限公司' nan]\n",
      " ['江苏中联物流股份有限公司' nan]\n",
      " ['中成新星油田工程技术服务股份有限公司' nan]\n",
      " ['淄博宏达矿业有限公司' nan]\n",
      " ['中恒通(福建)机械制造有限公司' nan]\n",
      " ['陕西国德电气制造有限公司' nan]\n",
      " ['山东滨州新天阳化工有限责任公司' nan]\n",
      " ['四川圣达集团有限公司' nan]\n",
      " ['重庆市福星门业(集团)有限公司' nan]\n",
      " ['浙江平湖华龙实业股份有限公司' nan]\n",
      " ['内蒙古奈伦农业科技股份有限公司' nan]\n",
      " ['中国中钢股份有限公司' nan]\n",
      " ['中国第二重型机械集团公司' nan]\n",
      " ['江苏大宏纺织集团股份有限公司' nan]\n",
      " ['波鸿集团有限公司' nan]\n",
      " ['东飞马佐里纺机有限公司' nan]\n",
      " ['宿迁市致富皮业有限公司' nan]\n",
      " ['安徽蓝博旺机械集团' nan]\n",
      " ['天津市天联滨海复合材料有限公司' nan]\n",
      " ['湖州金泰科技股份有限公司' nan]\n",
      " ['中伟(徐州)新型材料科技有限公司' nan]]\n",
      "37\n",
      "[['东北特殊钢集团有限责任公司' '东北特殊钢集团有限责任公司']\n",
      " ['中国中钢股份有限公司' '中国中钢股份有限公司']\n",
      " ['中国城市建设控股集团有限公司' '中国城市建设控股集团有限公司']\n",
      " ['中国第二重型机械集团公司' '中国第二重型机械集团公司']\n",
      " ['中恒通(福建)机械制造有限公司' '中恒通(福建)机械制造有限公司']\n",
      " ['中煤集团山西华昱能源有限公司' '中煤集团山西华昱能源有限公司']\n",
      " ['中科云网科技集团股份有限公司' '中科云网科技集团股份有限公司']\n",
      " ['丹东港集团有限公司' '丹东港集团有限公司']\n",
      " ['五洋建设集团股份有限公司' '五洋建设集团股份有限公司']\n",
      " ['亚邦投资控股集团有限公司' '亚邦投资控股集团有限公司']\n",
      " ['亿利资源集团有限公司' '亿利资源集团有限公司']\n",
      " ['保定天威英利新能源有限公司' '保定天威英利新能源有限公司']\n",
      " ['保定天威集团有限公司' '保定天威集团有限公司']\n",
      " ['内蒙古博源控股集团有限公司' '内蒙古博源控股集团有限公司']\n",
      " ['内蒙古奈伦集团股份有限公司' '内蒙古奈伦集团股份有限公司']\n",
      " ['华珠(泉州)鞋业有限公司' '华珠(泉州)鞋业有限公司']\n",
      " ['协鑫集成科技股份有限公司' '协鑫集成科技股份有限公司']\n",
      " ['南京雨润食品有限公司' '南京雨润食品有限公司']\n",
      " ['吉林粮食集团收储经销有限公司' '吉林粮食集团收储经销有限公司']\n",
      " ['四川圣达集团有限公司' '四川圣达集团有限公司']\n",
      " ['四川省煤炭产业集团有限责任公司' '四川省煤炭产业集团有限责任公司']\n",
      " ['大连机床集团有限责任公司' '大连机床集团有限责任公司']\n",
      " ['天津市泰亨气体有限公司' '天津市泰亨气体有限公司']\n",
      " ['山东山水水泥集团有限公司' '山东山水水泥集团有限公司']\n",
      " ['山东迪浩耐磨管道股份有限公司' '山东迪浩耐磨管道股份有限公司']\n",
      " ['广州华工百川科技有限公司' '广州华工百川科技有限公司']\n",
      " ['广西有色金属集团有限公司' '广西有色金属集团有限公司']\n",
      " ['春和集团有限公司' '春和集团有限公司']\n",
      " ['武汉国裕物流产业集团有限公司' '武汉国裕物流产业集团有限公司']\n",
      " ['江苏中联物流股份有限公司' '江苏中联物流股份有限公司']\n",
      " ['河南佳源乳业股份有限公司' '河南佳源乳业股份有限公司']\n",
      " ['湖州厉华妤婕联合纺织有限公司' '湖州厉华妤婕联合纺织有限公司']\n",
      " ['珠海中富实业股份有限公司' '珠海中富实业股份有限公司']\n",
      " ['甘肃华协农业生物科技股份有限公司' '甘肃华协农业生物科技股份有限公司']\n",
      " ['甘肃宏良皮业股份有限公司' '甘肃宏良皮业股份有限公司']\n",
      " ['百花医药集团股份有限公司' '百花医药集团股份有限公司']\n",
      " ['金乡县华光食品进出口有限公司' '金乡县华光食品进出口有限公司']\n",
      " ['上海市建设机电安装有限公司' nan]\n",
      " ['信阳市弘昌管道燃气工程有限责任公司' nan]\n",
      " ['华盛江泉集团有限公司' nan]\n",
      " ['惠州侨兴电信工业有限公司' nan]\n",
      " ['惠州侨兴电讯工业有限公司' nan]\n",
      " ['河北省物流产业集团有限公司' nan]\n",
      " ['莱芜信通印刷设备有限公司' nan]\n",
      " ['上海云峰(集团)有限公司' nan]\n",
      " ['东兴金满堂商贸有限公司' nan]\n",
      " ['鄂尔多斯市益通路桥有限公司' nan]\n",
      " ['中成新星油田工程技术服务股份有限公司' nan]\n",
      " ['淄博宏达矿业有限公司' nan]\n",
      " ['陕西国德电气制造有限公司' nan]\n",
      " ['山东滨州新天阳化工有限责任公司' nan]\n",
      " ['重庆市福星门业(集团)有限公司' nan]\n",
      " ['浙江平湖华龙实业股份有限公司' nan]\n",
      " ['内蒙古奈伦农业科技股份有限公司' nan]\n",
      " ['江苏大宏纺织集团股份有限公司' nan]\n",
      " ['波鸿集团有限公司' nan]\n",
      " ['东飞马佐里纺机有限公司' nan]\n",
      " ['宿迁市致富皮业有限公司' nan]\n",
      " ['安徽蓝博旺机械集团' nan]\n",
      " ['天津市天联滨海复合材料有限公司' nan]\n",
      " ['湖州金泰科技股份有限公司' nan]\n",
      " ['中伟(徐州)新型材料科技有限公司' nan]]\n"
     ]
    }
   ],
   "source": [
    "# 统计有违约的公司与有评级的公司的关联信息（只有8个违约企业可以关联上）\n",
    "print(level_df['公司中文名称'].nunique())\n",
    "print(pd.merge(bond_fault_df, level_df, how='left', left_on='公司名称', right_on='公司中文名称')[['公司名称','公司中文名称']].drop_duplicates().sort_values(by=['公司中文名称']).values)\n",
    "\n",
    "# 统计有违约的公司与有基本信息的公司的关联信息（都可以关联上）\n",
    "print(company_df['公司名称'].nunique())\n",
    "print(pd.merge(bond_fault_df, company_df, how='left', on='公司名称')[['公司名称','公司ID']].drop_duplicates().sort_values(by=['公司ID']).values)\n",
    "\n",
    "# 统计有违约的公司与有财务信息的公司的关联信息（只有19个违约企业可以关联上）\n",
    "print(bond_df['公司名称'].nunique())\n",
    "print(pd.merge(bond_fault_df, bond_df, how='left', on='公司名称')[['公司名称','公司代码']].drop_duplicates().sort_values(by=['公司代码']).values)\n",
    "\n",
    "# 统计有违约的公司与有舆情信息的公司的关联关系（只有37个违约企业可以关联上）\n",
    "fault_sentiment_df = pd.read_csv('./bond_data/public_sentiment_fault.csv', parse_dates=['发布日期'], date_parser=dateparse1)\n",
    "print(fault_sentiment_df['企业名称'].nunique())\n",
    "print(pd.merge(bond_fault_df, fault_sentiment_df, how='left', left_on='公司名称', right_on='企业名称')[['公司名称','企业名称']].drop_duplicates().sort_values(by=['企业名称']).values)\n",
    "\n"
   ]
  },
  {
   "cell_type": "code",
   "execution_count": 27,
   "metadata": {},
   "outputs": [
    {
     "name": "stdout",
     "output_type": "stream",
     "text": [
      "(5174, 16)\n",
      "(5192, 17)\n",
      "(5192, 193)\n",
      "(9055, 243)\n"
     ]
    }
   ],
   "source": [
    "# 目前有的数据\n",
    "# 财务数据 bond_year(按财务周期分类)\n",
    "# 公司信息 company\n",
    "# 违约数据 bond_fault_df\n",
    "# 與情数据 sentiment_df_30(按距离评级日期时间长短进行分类)\n",
    "print(company.shape)\n",
    "# 关联违约发生数据（有违约日期的数据即为有债券违约的公司）\n",
    "result = pd.merge(company, bond_fault_df.drop_duplicates(), how='left', on='公司名称')\n",
    "print(result.shape)\n",
    "# 关联舆情发生在评级日期前的舆情数据\n",
    "result = pd.merge(result, sentiment_df_30, how='left', on=['公司名称','评级日期'])\n",
    "print(result.shape)\n",
    "# 标记发生违约的记录\n",
    "# 规则：有违约日期且违约日期>评级日期并且违约日期最接近评级日期\n",
    "# bond['sort_id'] =  bond.loc[bond['报告期']<bond['评级日期'],['评级日期']].groupby([bond['公司名称'], bond['报告期']]).rank(ascending=False)\n",
    "result['sort_id'] = result.loc[result['评级日期']<result['违约日期'],['违约日期']].groupby([result['公司名称'],result['评级日期']]).rank(ascending=True)\n",
    "# 关联财务数据\n",
    "result = pd.merge(result[(result['sort_id']==1) | (result['sort_id']!=None)], bond_year, how='left', on=['公司名称','评级日期'])\n",
    "print(result.shape)\n"
   ]
  },
  {
   "cell_type": "code",
   "execution_count": 34,
   "metadata": {},
   "outputs": [
    {
     "data": {
      "text/plain": [
       "(31, 17)"
      ]
     },
     "execution_count": 34,
     "metadata": {},
     "output_type": "execute_result"
    }
   ],
   "source": [
    "pd.merge(company, bond_fault_df.drop_duplicates(), how='inner', on='公司名称').shape"
   ]
  },
  {
   "cell_type": "code",
   "execution_count": 33,
   "metadata": {},
   "outputs": [
    {
     "data": {
      "text/plain": [
       "(10, 1)"
      ]
     },
     "execution_count": 33,
     "metadata": {},
     "output_type": "execute_result"
    }
   ],
   "source": [
    "result.loc[result['sort_id'].notnull(), ['sort_id']].shape"
   ]
  },
  {
   "cell_type": "code",
   "execution_count": 14,
   "metadata": {},
   "outputs": [
    {
     "name": "stdout",
     "output_type": "stream",
     "text": [
      "company_year: (9639, 220)\n",
      "sentiment_df: (167, 178)\n",
      "company: (5174, 16)\n",
      "company_halfyear: (12787, 43)\n"
     ]
    }
   ],
   "source": [
    "print('company_year:', company_year.shape)\n",
    "print('sentiment_df:', sentiment_df_30.shape)\n",
    "print('company:', company.shape)\n",
    "print('company_halfyear:', company_halfyear.shape)"
   ]
  },
  {
   "cell_type": "code",
   "execution_count": 19,
   "metadata": {},
   "outputs": [
    {
     "data": {
      "text/plain": [
       "Index(['公司名称', '评级日期', '', ' 风险->个人风险->高管动向', ' 风险->个人风险->高管风险',\n",
       "       ' 风险->企业风险->事故->泄漏事故', ' 风险->企业风险->事故->火灾事故', ' 风险->企业风险->事故->爆炸事故',\n",
       "       ' 风险->企业风险->产品风险->不合格产品', ' 风险->企业风险->产品风险->产品差',\n",
       "       ...\n",
       "       '风险->行业风险->行业分析->趋势变化', '风险->行业风险->行业分析->黑天鹅', '风险->行业风险->行业调整->产能过剩',\n",
       "       '风险->行业风险->行业调整->产能问题', '风险->行业风险->行业调整->市场面临考验',\n",
       "       '风险->行业风险->行业调整->空间有限', '风险->行业风险->行业调整->行业改革', '风险->行业风险->行业调整->行业调整',\n",
       "       '风险->行业风险->行业调整->需求萎缩', 'days'],\n",
       "      dtype='object', length=307)"
      ]
     },
     "execution_count": 19,
     "metadata": {},
     "output_type": "execute_result"
    }
   ],
   "source": [
    "a=sentiment_df.groupby([sentiment_df['公司名称'],sentiment_df['评级日期']]).sum().reset_index()\n",
    "a.columns\n"
   ]
  },
  {
   "cell_type": "code",
   "execution_count": null,
   "metadata": {
    "collapsed": true
   },
   "outputs": [],
   "source": [
    "思路：\n",
    "增加发行时主体评级，以及当前信用评级，将信用评级数值化，并计算信用评级差\n",
    "可以关联同一家公司的多个违约记录，以便增加样本数量\n",
    "关联舆情分类指标（一个月，一个季度，半年，一年）统计各时间段内舆情分类发生次数"
   ]
  }
 ],
 "metadata": {
  "kernelspec": {
   "display_name": "Python 3",
   "language": "python",
   "name": "python3"
  },
  "language_info": {
   "codemirror_mode": {
    "name": "ipython",
    "version": 3
   },
   "file_extension": ".py",
   "mimetype": "text/x-python",
   "name": "python",
   "nbconvert_exporter": "python",
   "pygments_lexer": "ipython3",
   "version": "3.6.3"
  }
 },
 "nbformat": 4,
 "nbformat_minor": 2
}
