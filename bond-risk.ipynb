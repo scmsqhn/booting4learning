{
 "cells": [
  {
   "cell_type": "code",
   "execution_count": 1,
   "metadata": {
    "collapsed": true
   },
   "outputs": [],
   "source": [
    "import numpy as np\n",
    "import pandas as pd\n",
    "import matplotlib as mpl\n",
    "import matplotlib.pyplot as plt\n",
    "import seaborn as sns\n",
    "import sklearn\n",
    "from sklearn import preprocessing as pp\n",
    "from matplotlib.font_manager import FontProperties\n",
    "\n",
    "%matplotlib inline\n",
    "myfont=FontProperties(fname='/usr/share/fonts/truetype/yahei.ttf',size=14)\n",
    "mpl.rcParams['axes.unicode_minus']=False\n",
    "sns.set(font=myfont.get_name())"
   ]
  },
  {
   "cell_type": "code",
   "execution_count": 3,
   "metadata": {
    "collapsed": true
   },
   "outputs": [],
   "source": [
    "# 数据读取\n",
    "dateparse = lambda dates: pd.datetime.strptime((str(dates)+'0101')[0:8], '%Y%m%d') if not pd.isnull(dates) else None\n",
    "company_df = pd.read_csv('/home/phoenixkiller/notebook/bond_data/company_info.csv',\n",
    "                         parse_dates=['成立日期'],\n",
    "                         infer_datetime_format = True,\n",
    "                         date_parser=dateparse)\n",
    "bond_df = pd.read_csv('/home/phoenixkiller/notebook/bond_data/a.csv',\n",
    "                      parse_dates=['报告期'],\n",
    "                      infer_datetime_format = True,\n",
    "                      date_parser=dateparse)\n",
    "level_df = pd.read_csv('/home/phoenixkiller/notebook/bond_data/level.csv',\n",
    "                       parse_dates=['评级日期','公告日期'],\n",
    "                       infer_datetime_format=True,\n",
    "                       date_parser=dateparse)\n",
    "# 标记财务报表类型(年报，半年报，季报)\n",
    "bond_df['报告类型']=bond_df['报告期'].apply(lambda x: '年报' if x.month==12 else ('半年报' if x.month==6 else '季报'))\n",
    "\n",
    "# 关联公司基本信息及评级信息\n",
    "company = pd.merge(company_df, level_df, how='inner', left_on='公司名称', right_on='公司中文名称')\n",
    "\n",
    "# 去掉不适用的评级\n",
    "company = company[~company['信用评级'].isin(['A1','A2','A3','Baa1','Ba1','Aa3','B2','Baa3','Ba3','B1'])]\n",
    "\n",
    "# 删除无用列\n",
    "company = company.drop(['公司中文简介', '信用评级说明', '法人代表', '总经理', '董事会秘书', '主页', '电子邮箱',\n",
    "                        '经营范围', '对象ID', '公司ID', '公司中文名称', '主要产品及业务', '办公地址',\n",
    "                        '评级展望', '债券主体公司id', '前次信用评级', '评级变动方向', '城市'], axis=1)\n",
    "\n",
    "# 设置列类型\n",
    "company[['公司类别','评级类型','评级机构代码']] = company[['公司类别','评级类型','评级机构代码']].astype(str)\n",
    "company['员工总数人'] = company[company['员工总数人'].notnull()]['员工总数人'].astype(int)\n"
   ]
  },
  {
   "cell_type": "code",
   "execution_count": 4,
   "metadata": {},
   "outputs": [],
   "source": [
    "bond_fault_df = pd.read_csv('/home/phoenixkiller/notebook/bond_data/bond_fault.csv',\n",
    "                         parse_dates=['发生日期'],\n",
    "                         infer_datetime_format = True,\n",
    "                         date_parser=dateparse)\n"
   ]
  },
  {
   "cell_type": "code",
   "execution_count": 8,
   "metadata": {},
   "outputs": [
    {
     "data": {
      "text/plain": [
       "(148,)"
      ]
     },
     "execution_count": 8,
     "metadata": {},
     "output_type": "execute_result"
    }
   ],
   "source": [
    "bond_fault_df['发行人'].shape\n"
   ]
  },
  {
   "cell_type": "code",
   "execution_count": null,
   "metadata": {
    "collapsed": true
   },
   "outputs": [],
   "source": [
    "思路：\n",
    "增加发行时主体评级，以及当前信用评级，将信用评级数值化，并计算信用评级差\n",
    "可以关联同一家公司的多个违约记录，以便增加样本数量\n",
    "关联舆情分类指标（一个月，一个季度，半年，一年）统计各时间段内舆情分类发生次数"
   ]
  }
 ],
 "metadata": {
  "kernelspec": {
   "display_name": "Python 3",
   "language": "python",
   "name": "python3"
  },
  "language_info": {
   "codemirror_mode": {
    "name": "ipython",
    "version": 3
   },
   "file_extension": ".py",
   "mimetype": "text/x-python",
   "name": "python",
   "nbconvert_exporter": "python",
   "pygments_lexer": "ipython3",
   "version": "3.6.3"
  }
 },
 "nbformat": 4,
 "nbformat_minor": 2
}
